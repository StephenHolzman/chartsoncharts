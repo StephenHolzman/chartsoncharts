{
 "cells": [
  {
   "cell_type": "code",
   "execution_count": 1,
   "metadata": {
    "collapsed": true
   },
   "outputs": [],
   "source": [
    "from pollster import Pollster\n",
    "pollster = Pollster()"
   ]
  },
  {
   "cell_type": "code",
   "execution_count": 18,
   "metadata": {
    "collapsed": false
   },
   "outputs": [
    {
     "name": "stdout",
     "output_type": "stream",
     "text": [
      "http://elections.huffingtonpost.com/pollster/api/polls?topic=2016-president-gop-primary&state=US&page=1\n",
      "[<Poll: Rasmussen (2016-02-21 - 2016-02-22)>, <Poll: NBC/SurveyMonkey (2016-02-15 - 2016-02-21)>, <Poll: FOX (2016-02-15 - 2016-02-17)>, <Poll: Ipsos/Reuters (2016-02-13 - 2016-02-17)>, <Poll: YouGov/Economist (2016-02-11 - 2016-02-15)>, <Poll: CBS (2016-02-12 - 2016-02-16)>, <Poll: NBC/WSJ (2016-02-14 - 2016-02-16)>, <Poll: Suffolk/USA Today (2016-02-11 - 2016-02-15)>, <Poll: Morning Consult (2016-02-15 - 2016-02-16)>, <Poll: Quinnipiac (2016-02-10 - 2016-02-15)>]\n"
     ]
    }
   ],
   "source": [
    "polls = pollster.polls(state=\"US\",topic=\"2016-president-gop-primary\",page=\"1\")\n",
    "print polls"
   ]
  },
  {
   "cell_type": "code",
   "execution_count": 19,
   "metadata": {
    "collapsed": false
   },
   "outputs": [
    {
     "name": "stdout",
     "output_type": "stream",
     "text": [
      "http://elections.huffingtonpost.com/pollster/api/polls?topic=2016-president-gop-primary&state=US&page=2\n",
      "[<Poll: NBC/SurveyMonkey (2016-02-08 - 2016-02-14)>, <Poll: Morning Consult (2016-02-10 - 2016-02-11)>, <Poll: Ipsos/Reuters (2016-02-06 - 2016-02-10)>, <Poll: NBC/SurveyMonkey (2016-02-01 - 2016-02-07)>, <Poll: Morning Consult (2016-02-03 - 2016-02-07)>, <Poll: Rasmussen (2016-02-03 - 2016-02-04)>, <Poll: Quinnipiac (2016-02-02 - 2016-02-04)>, <Poll: Ipsos/Reuters (2016-01-30 - 2016-02-03)>, <Poll: PPP (D) (2016-02-02 - 2016-02-03)>, <Poll: Morning Consult (2016-02-02 - 2016-02-03)>]\n"
     ]
    }
   ],
   "source": [
    "polls2 = pollster.polls(state=\"US\",topic=\"2016-president-gop-primary\",page=\"2\")\n",
    "print polls2"
   ]
  },
  {
   "cell_type": "code",
   "execution_count": 20,
   "metadata": {
    "collapsed": false
   },
   "outputs": [
    {
     "name": "stdout",
     "output_type": "stream",
     "text": [
      "<type 'list'>\n"
     ]
    }
   ],
   "source": [
    "print type(polls)"
   ]
  },
  {
   "cell_type": "code",
   "execution_count": 34,
   "metadata": {
    "collapsed": false
   },
   "outputs": [
    {
     "name": "stdout",
     "output_type": "stream",
     "text": [
      "[<Poll: Rasmussen (2016-02-21 - 2016-02-22)>, <Poll: NBC/SurveyMonkey (2016-02-15 - 2016-02-21)>, <Poll: FOX (2016-02-15 - 2016-02-17)>, <Poll: Ipsos/Reuters (2016-02-13 - 2016-02-17)>, <Poll: YouGov/Economist (2016-02-11 - 2016-02-15)>, <Poll: CBS (2016-02-12 - 2016-02-16)>, <Poll: NBC/WSJ (2016-02-14 - 2016-02-16)>, <Poll: Suffolk/USA Today (2016-02-11 - 2016-02-15)>, <Poll: Morning Consult (2016-02-15 - 2016-02-16)>, <Poll: Quinnipiac (2016-02-10 - 2016-02-15)>, <Poll: NBC/SurveyMonkey (2016-02-08 - 2016-02-14)>, <Poll: Morning Consult (2016-02-10 - 2016-02-11)>, <Poll: Ipsos/Reuters (2016-02-06 - 2016-02-10)>, <Poll: NBC/SurveyMonkey (2016-02-01 - 2016-02-07)>, <Poll: Morning Consult (2016-02-03 - 2016-02-07)>, <Poll: Rasmussen (2016-02-03 - 2016-02-04)>, <Poll: Quinnipiac (2016-02-02 - 2016-02-04)>, <Poll: Ipsos/Reuters (2016-01-30 - 2016-02-03)>, <Poll: PPP (D) (2016-02-02 - 2016-02-03)>, <Poll: Morning Consult (2016-02-02 - 2016-02-03)>]\n"
     ]
    }
   ],
   "source": [
    "bigpolls = polls + polls2\n",
    "print bigpolls"
   ]
  },
  {
   "cell_type": "code",
   "execution_count": 41,
   "metadata": {
    "collapsed": false
   },
   "outputs": [
    {
     "name": "stdout",
     "output_type": "stream",
     "text": [
      "20\n",
      "10\n",
      "10\n"
     ]
    }
   ],
   "source": []
  },
  {
   "cell_type": "code",
   "execution_count": null,
   "metadata": {
    "collapsed": true
   },
   "outputs": [],
   "source": []
  }
 ],
 "metadata": {
  "kernelspec": {
   "display_name": "Python 2",
   "language": "python",
   "name": "python2"
  },
  "language_info": {
   "codemirror_mode": {
    "name": "ipython",
    "version": 2
   },
   "file_extension": ".py",
   "mimetype": "text/x-python",
   "name": "python",
   "nbconvert_exporter": "python",
   "pygments_lexer": "ipython2",
   "version": "2.7.11"
  }
 },
 "nbformat": 4,
 "nbformat_minor": 0
}
